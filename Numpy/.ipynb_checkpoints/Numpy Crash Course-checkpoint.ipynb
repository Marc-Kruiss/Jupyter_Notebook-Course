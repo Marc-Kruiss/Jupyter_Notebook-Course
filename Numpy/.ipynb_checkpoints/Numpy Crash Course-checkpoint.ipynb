{
 "cells": [
  {
   "cell_type": "code",
   "execution_count": 69,
   "id": "5d3a1f5a",
   "metadata": {},
   "outputs": [
    {
     "name": "stdout",
     "output_type": "stream",
     "text": [
      "Requirement already satisfied: numpy in g:\\programme\\anaconda3\\lib\\site-packages (1.21.5)\n"
     ]
    }
   ],
   "source": [
    "!pip install numpy"
   ]
  },
  {
   "cell_type": "code",
   "execution_count": 70,
   "id": "85ec2320",
   "metadata": {},
   "outputs": [],
   "source": [
    "import numpy as np"
   ]
  },
  {
   "cell_type": "markdown",
   "id": "0f886e50",
   "metadata": {},
   "source": [
    "# 1. Create"
   ]
  },
  {
   "cell_type": "code",
   "execution_count": 71,
   "id": "5b6c0752",
   "metadata": {},
   "outputs": [],
   "source": [
    "# Numpy array creation methods\n",
    "data = np.random.rand(2,3,4)\n",
    "zeroes = np.zeros((2,2,2))\n",
    "full = np.full((2,2,2), 7)\n",
    "ones = np.ones((2,2,2))"
   ]
  },
  {
   "cell_type": "code",
   "execution_count": 72,
   "id": "a4218d69",
   "metadata": {},
   "outputs": [
    {
     "data": {
      "text/plain": [
       "array([[[3.88771556e-01, 5.61855674e-01, 3.08948013e-01, 7.06075805e-02],\n",
       "        [1.25194033e-02, 3.52970745e-01, 9.10981258e-04, 8.01744579e-01],\n",
       "        [5.35117246e-01, 7.11526737e-01, 5.00254070e-01, 4.78692038e-01]],\n",
       "\n",
       "       [[8.09528128e-01, 7.06136302e-01, 1.30077886e-01, 2.91332583e-01],\n",
       "        [2.19744146e-01, 9.02666760e-01, 8.46555061e-01, 3.00753662e-02],\n",
       "        [3.56665387e-02, 9.82100401e-01, 3.18050912e-01, 2.37551014e-01]]])"
      ]
     },
     "execution_count": 72,
     "metadata": {},
     "output_type": "execute_result"
    }
   ],
   "source": [
    "data"
   ]
  },
  {
   "cell_type": "code",
   "execution_count": 73,
   "id": "9d31ae57",
   "metadata": {},
   "outputs": [
    {
     "data": {
      "text/plain": [
       "array([[[0., 0.],\n",
       "        [0., 0.]],\n",
       "\n",
       "       [[0., 0.],\n",
       "        [0., 0.]]])"
      ]
     },
     "execution_count": 73,
     "metadata": {},
     "output_type": "execute_result"
    }
   ],
   "source": [
    "zeroes"
   ]
  },
  {
   "cell_type": "code",
   "execution_count": 74,
   "id": "dcbfac6b",
   "metadata": {},
   "outputs": [
    {
     "data": {
      "text/plain": [
       "array([[[7, 7],\n",
       "        [7, 7]],\n",
       "\n",
       "       [[7, 7],\n",
       "        [7, 7]]])"
      ]
     },
     "execution_count": 74,
     "metadata": {},
     "output_type": "execute_result"
    }
   ],
   "source": [
    "full"
   ]
  },
  {
   "cell_type": "code",
   "execution_count": 75,
   "id": "50dc3233",
   "metadata": {},
   "outputs": [
    {
     "data": {
      "text/plain": [
       "array([[[1., 1.],\n",
       "        [1., 1.]],\n",
       "\n",
       "       [[1., 1.],\n",
       "        [1., 1.]]])"
      ]
     },
     "execution_count": 75,
     "metadata": {},
     "output_type": "execute_result"
    }
   ],
   "source": [
    "ones"
   ]
  },
  {
   "cell_type": "code",
   "execution_count": 76,
   "id": "7b6ce194",
   "metadata": {},
   "outputs": [],
   "source": [
    "# Create own custom array\n",
    "arr =np.array([[1,2,3,4],[1,2,3,4]])"
   ]
  },
  {
   "cell_type": "code",
   "execution_count": 77,
   "id": "0cb2c30c",
   "metadata": {},
   "outputs": [
    {
     "data": {
      "text/plain": [
       "numpy.ndarray"
      ]
     },
     "execution_count": 77,
     "metadata": {},
     "output_type": "execute_result"
    }
   ],
   "source": [
    "type(arr)"
   ]
  },
  {
   "cell_type": "code",
   "execution_count": 78,
   "id": "ad916b1b",
   "metadata": {},
   "outputs": [
    {
     "data": {
      "text/plain": [
       "array([[1, 2, 3, 4],\n",
       "       [1, 2, 3, 4]])"
      ]
     },
     "execution_count": 78,
     "metadata": {},
     "output_type": "execute_result"
    }
   ],
   "source": [
    "arr"
   ]
  },
  {
   "cell_type": "code",
   "execution_count": null,
   "id": "be2c3078",
   "metadata": {},
   "outputs": [],
   "source": []
  },
  {
   "cell_type": "markdown",
   "id": "ef8b34b7",
   "metadata": {},
   "source": [
    "# 2. Read"
   ]
  },
  {
   "cell_type": "code",
   "execution_count": 79,
   "id": "b896caa9",
   "metadata": {},
   "outputs": [],
   "source": [
    "# Attributes"
   ]
  },
  {
   "cell_type": "code",
   "execution_count": 80,
   "id": "fb848446",
   "metadata": {},
   "outputs": [],
   "source": [
    "shape = data.shape\n",
    "size = data.size\n",
    "types = data.dtype"
   ]
  },
  {
   "cell_type": "code",
   "execution_count": 81,
   "id": "9cb33a99",
   "metadata": {},
   "outputs": [
    {
     "data": {
      "text/plain": [
       "((2, 3, 4), 24, dtype('float64'))"
      ]
     },
     "execution_count": 81,
     "metadata": {},
     "output_type": "execute_result"
    }
   ],
   "source": [
    "shape, size, types"
   ]
  },
  {
   "cell_type": "code",
   "execution_count": 82,
   "id": "2f1225f9",
   "metadata": {},
   "outputs": [],
   "source": [
    "# Slicing\n",
    "arr = data[0] # get first instance of array\n",
    "slicer = data[0][0:2] # get first two instances of the first subarray\n",
    "reverse = data[-1] # get last array instance\n",
    "single_value = data[0][0][0] # get single value"
   ]
  },
  {
   "cell_type": "code",
   "execution_count": 83,
   "id": "d5ca57e8",
   "metadata": {},
   "outputs": [
    {
     "data": {
      "text/plain": [
       "array([[0.38877156, 0.56185567, 0.30894801, 0.07060758],\n",
       "       [0.0125194 , 0.35297074, 0.00091098, 0.80174458],\n",
       "       [0.53511725, 0.71152674, 0.50025407, 0.47869204]])"
      ]
     },
     "execution_count": 83,
     "metadata": {},
     "output_type": "execute_result"
    }
   ],
   "source": [
    "arr"
   ]
  },
  {
   "cell_type": "code",
   "execution_count": 84,
   "id": "3949e6a6",
   "metadata": {},
   "outputs": [
    {
     "data": {
      "text/plain": [
       "array([[0.38877156, 0.56185567, 0.30894801, 0.07060758],\n",
       "       [0.0125194 , 0.35297074, 0.00091098, 0.80174458]])"
      ]
     },
     "execution_count": 84,
     "metadata": {},
     "output_type": "execute_result"
    }
   ],
   "source": [
    "slicer"
   ]
  },
  {
   "cell_type": "code",
   "execution_count": 85,
   "id": "0399df5c",
   "metadata": {},
   "outputs": [
    {
     "data": {
      "text/plain": [
       "array([[0.80952813, 0.7061363 , 0.13007789, 0.29133258],\n",
       "       [0.21974415, 0.90266676, 0.84655506, 0.03007537],\n",
       "       [0.03566654, 0.9821004 , 0.31805091, 0.23755101]])"
      ]
     },
     "execution_count": 85,
     "metadata": {},
     "output_type": "execute_result"
    }
   ],
   "source": [
    "reverse"
   ]
  },
  {
   "cell_type": "code",
   "execution_count": 86,
   "id": "5a287a8f",
   "metadata": {},
   "outputs": [
    {
     "data": {
      "text/plain": [
       "0.3887715556361071"
      ]
     },
     "execution_count": 86,
     "metadata": {},
     "output_type": "execute_result"
    }
   ],
   "source": [
    "single_value"
   ]
  },
  {
   "cell_type": "markdown",
   "id": "87875b8e",
   "metadata": {},
   "source": [
    "# 3. Update"
   ]
  },
  {
   "cell_type": "code",
   "execution_count": 87,
   "id": "3aa8655c",
   "metadata": {},
   "outputs": [],
   "source": [
    "list1 = np.random.rand(10)\n",
    "list2 = np.random.rand(10)"
   ]
  },
  {
   "cell_type": "code",
   "execution_count": 88,
   "id": "991d9b88",
   "metadata": {},
   "outputs": [
    {
     "data": {
      "text/plain": [
       "array([0.35239194, 0.55652615, 0.91498828, 0.35048445, 0.86748809,\n",
       "       0.65743012, 0.25848976, 0.04991308, 0.31580342, 0.72321361])"
      ]
     },
     "execution_count": 88,
     "metadata": {},
     "output_type": "execute_result"
    }
   ],
   "source": [
    "list1"
   ]
  },
  {
   "cell_type": "code",
   "execution_count": 89,
   "id": "6f8ff932",
   "metadata": {},
   "outputs": [],
   "source": [
    "# Basic Math\n",
    "add = np.add(list1, list2)\n",
    "sub = np.subtract(list1, list2)\n",
    "mult = np.multiply(list1, list2)\n",
    "dot = np.dot(list1,list2)"
   ]
  },
  {
   "cell_type": "code",
   "execution_count": 90,
   "id": "80f2a34c",
   "metadata": {},
   "outputs": [
    {
     "data": {
      "text/plain": [
       "array([0.87436318, 1.53396564, 1.90480297, 0.56818266, 1.84881662,\n",
       "       1.15976225, 0.51223375, 0.53499533, 1.03441841, 1.16737302])"
      ]
     },
     "execution_count": 90,
     "metadata": {},
     "output_type": "execute_result"
    }
   ],
   "source": [
    "add"
   ]
  },
  {
   "cell_type": "code",
   "execution_count": 91,
   "id": "4a8b0c6f",
   "metadata": {},
   "outputs": [
    {
     "data": {
      "text/plain": [
       "array([-0.16957931, -0.42091334, -0.0748264 ,  0.13278625, -0.11384044,\n",
       "        0.15509799,  0.00474577, -0.43516917, -0.40281158,  0.2790542 ])"
      ]
     },
     "execution_count": 91,
     "metadata": {},
     "output_type": "execute_result"
    }
   ],
   "source": [
    "sub"
   ]
  },
  {
   "cell_type": "code",
   "execution_count": 92,
   "id": "d2f8bc63",
   "metadata": {},
   "outputs": [
    {
     "data": {
      "text/plain": [
       "array([0.18393846, 0.54397064, 0.90566884, 0.07629984, 0.85129082,\n",
       "       0.33024827, 0.06559022, 0.02421195, 0.22694107, 0.32122213])"
      ]
     },
     "execution_count": 92,
     "metadata": {},
     "output_type": "execute_result"
    }
   ],
   "source": [
    "mult"
   ]
  },
  {
   "cell_type": "code",
   "execution_count": 93,
   "id": "5341bf17",
   "metadata": {},
   "outputs": [
    {
     "data": {
      "text/plain": [
       "3.5293822290152685"
      ]
     },
     "execution_count": 93,
     "metadata": {},
     "output_type": "execute_result"
    }
   ],
   "source": [
    "dot"
   ]
  },
  {
   "cell_type": "code",
   "execution_count": 103,
   "id": "9d4a2d56",
   "metadata": {},
   "outputs": [],
   "source": [
    "# Stat Functions\n",
    "sqrt = np.sqrt(25)\n",
    "ab = np.abs(-2)\n",
    "power= np.power(2,7)\n",
    "log= np.log(25)\n",
    "exp = np.exp([2,8])\n",
    "mins = np.min(list1)\n",
    "maxs = np.max(list1)"
   ]
  },
  {
   "cell_type": "code",
   "execution_count": 106,
   "id": "9c958f26",
   "metadata": {},
   "outputs": [
    {
     "data": {
      "text/plain": [
       "array([[[3.88771556e-01, 5.61855674e-01, 3.08948013e-01, 7.06075805e-02],\n",
       "        [1.25194033e-02, 3.52970745e-01, 9.10981258e-04, 8.01744579e-01],\n",
       "        [5.35117246e-01, 7.11526737e-01, 5.00254070e-01, 4.78692038e-01]],\n",
       "\n",
       "       [[8.09528128e-01, 7.06136302e-01, 1.30077886e-01, 2.91332583e-01],\n",
       "        [2.19744146e-01, 9.02666760e-01, 8.46555061e-01, 3.00753662e-02],\n",
       "        [3.56665387e-02, 9.82100401e-01, 3.18050912e-01, 2.37551014e-01]]])"
      ]
     },
     "execution_count": 106,
     "metadata": {},
     "output_type": "execute_result"
    }
   ],
   "source": [
    "# Update Data\n",
    "data"
   ]
  },
  {
   "cell_type": "code",
   "execution_count": 109,
   "id": "d3b8fcc9",
   "metadata": {},
   "outputs": [
    {
     "data": {
      "text/plain": [
       "array([[[7.00000000e+02, 5.61855674e-01, 3.08948013e-01, 7.06075805e-02],\n",
       "        [1.25194033e-02, 3.52970745e-01, 9.10981258e-04, 8.01744579e-01],\n",
       "        [5.35117246e-01, 7.11526737e-01, 5.00254070e-01, 4.78692038e-01]],\n",
       "\n",
       "       [[8.09528128e-01, 7.06136302e-01, 1.30077886e-01, 2.91332583e-01],\n",
       "        [2.19744146e-01, 9.02666760e-01, 8.46555061e-01, 3.00753662e-02],\n",
       "        [3.56665387e-02, 9.82100401e-01, 3.18050912e-01, 2.37551014e-01]]])"
      ]
     },
     "execution_count": 109,
     "metadata": {},
     "output_type": "execute_result"
    }
   ],
   "source": [
    "data[0][0][0] = 700\n",
    "data"
   ]
  },
  {
   "cell_type": "code",
   "execution_count": 112,
   "id": "47db6103",
   "metadata": {},
   "outputs": [
    {
     "data": {
      "text/plain": [
       "array([[[7.06075805e-02, 3.08948013e-01, 5.61855674e-01, 7.00000000e+02],\n",
       "        [9.10981258e-04, 1.25194033e-02, 3.52970745e-01, 8.01744579e-01],\n",
       "        [4.78692038e-01, 5.00254070e-01, 5.35117246e-01, 7.11526737e-01]],\n",
       "\n",
       "       [[1.30077886e-01, 2.91332583e-01, 7.06136302e-01, 8.09528128e-01],\n",
       "        [3.00753662e-02, 2.19744146e-01, 8.46555061e-01, 9.02666760e-01],\n",
       "        [3.56665387e-02, 2.37551014e-01, 3.18050912e-01, 9.82100401e-01]]])"
      ]
     },
     "execution_count": 112,
     "metadata": {},
     "output_type": "execute_result"
    }
   ],
   "source": [
    "data.sort()\n",
    "data"
   ]
  },
  {
   "cell_type": "code",
   "execution_count": 113,
   "id": "9a425ebe",
   "metadata": {},
   "outputs": [
    {
     "name": "stdout",
     "output_type": "stream",
     "text": [
      "(2, 3, 4)\n"
     ]
    }
   ],
   "source": [
    "# Reshape\n",
    "print(data.shape)"
   ]
  },
  {
   "cell_type": "code",
   "execution_count": 115,
   "id": "24298709",
   "metadata": {},
   "outputs": [
    {
     "data": {
      "text/plain": [
       "(2, 2, 6)"
      ]
     },
     "execution_count": 115,
     "metadata": {},
     "output_type": "execute_result"
    }
   ],
   "source": [
    "data = data.reshape((2,2,-1))\n",
    "data.shape"
   ]
  },
  {
   "cell_type": "code",
   "execution_count": 116,
   "id": "4fd04022",
   "metadata": {
    "scrolled": true
   },
   "outputs": [
    {
     "data": {
      "text/plain": [
       "array([[[7.06075805e-02, 3.08948013e-01, 5.61855674e-01, 7.00000000e+02,\n",
       "         9.10981258e-04, 1.25194033e-02],\n",
       "        [3.52970745e-01, 8.01744579e-01, 4.78692038e-01, 5.00254070e-01,\n",
       "         5.35117246e-01, 7.11526737e-01]],\n",
       "\n",
       "       [[1.30077886e-01, 2.91332583e-01, 7.06136302e-01, 8.09528128e-01,\n",
       "         3.00753662e-02, 2.19744146e-01],\n",
       "        [8.46555061e-01, 9.02666760e-01, 3.56665387e-02, 2.37551014e-01,\n",
       "         3.18050912e-01, 9.82100401e-01]]])"
      ]
     },
     "execution_count": 116,
     "metadata": {},
     "output_type": "execute_result"
    }
   ],
   "source": [
    "data"
   ]
  },
  {
   "cell_type": "code",
   "execution_count": 119,
   "id": "89e7cbe7",
   "metadata": {},
   "outputs": [
    {
     "name": "stdout",
     "output_type": "stream",
     "text": [
      "[0. 0. 0. 0. 0. 0. 0. 0.]\n",
      "[0. 0. 0. 0. 0. 0. 0. 0. 3. 4.]\n"
     ]
    }
   ],
   "source": [
    "# Append values/array\n",
    "zeroes = np.zeros((8))\n",
    "print(zeroes)\n",
    "zeroes = np.append(zeroes, [3,4])\n",
    "print(zeroes)"
   ]
  },
  {
   "cell_type": "code",
   "execution_count": 118,
   "id": "7d98d82e",
   "metadata": {},
   "outputs": [
    {
     "name": "stdout",
     "output_type": "stream",
     "text": [
      "[0. 0. 1. 0. 0. 0. 0. 0. 0. 3. 4.]\n"
     ]
    }
   ],
   "source": [
    "# Insert values/array at specific position\n",
    "zeroes = np.insert(zeroes, 2, 1)\n",
    "print(zeroes)"
   ]
  },
  {
   "cell_type": "markdown",
   "id": "4e0863dd",
   "metadata": {},
   "source": [
    "# 4. Delete"
   ]
  },
  {
   "cell_type": "code",
   "execution_count": 120,
   "id": "03b18445",
   "metadata": {},
   "outputs": [
    {
     "data": {
      "text/plain": [
       "array([[[7.06075805e-02, 3.08948013e-01, 5.61855674e-01, 7.00000000e+02,\n",
       "         9.10981258e-04, 1.25194033e-02],\n",
       "        [3.52970745e-01, 8.01744579e-01, 4.78692038e-01, 5.00254070e-01,\n",
       "         5.35117246e-01, 7.11526737e-01]],\n",
       "\n",
       "       [[1.30077886e-01, 2.91332583e-01, 7.06136302e-01, 8.09528128e-01,\n",
       "         3.00753662e-02, 2.19744146e-01],\n",
       "        [8.46555061e-01, 9.02666760e-01, 3.56665387e-02, 2.37551014e-01,\n",
       "         3.18050912e-01, 9.82100401e-01]]])"
      ]
     },
     "execution_count": 120,
     "metadata": {},
     "output_type": "execute_result"
    }
   ],
   "source": [
    "data"
   ]
  },
  {
   "cell_type": "code",
   "execution_count": 121,
   "id": "c4f5ed5a",
   "metadata": {},
   "outputs": [
    {
     "data": {
      "text/plain": [
       "array([[[0.35297074, 0.80174458, 0.47869204, 0.50025407, 0.53511725,\n",
       "         0.71152674]],\n",
       "\n",
       "       [[0.84655506, 0.90266676, 0.03566654, 0.23755101, 0.31805091,\n",
       "         0.9821004 ]]])"
      ]
     },
     "execution_count": 121,
     "metadata": {},
     "output_type": "execute_result"
    }
   ],
   "source": [
    "# Delete first array of all subarrays\n",
    "np.delete(data,0,axis=1) # 1-delete row"
   ]
  },
  {
   "cell_type": "code",
   "execution_count": 122,
   "id": "03c8fcb2",
   "metadata": {},
   "outputs": [],
   "source": [
    "np.save(\"new array\", data)"
   ]
  },
  {
   "cell_type": "code",
   "execution_count": 123,
   "id": "526dd90e",
   "metadata": {},
   "outputs": [],
   "source": [
    "loaded = np.load(\"new array.npy\")"
   ]
  },
  {
   "cell_type": "code",
   "execution_count": 124,
   "id": "b5737a85",
   "metadata": {},
   "outputs": [
    {
     "data": {
      "text/plain": [
       "array([[[7.06075805e-02, 3.08948013e-01, 5.61855674e-01, 7.00000000e+02,\n",
       "         9.10981258e-04, 1.25194033e-02],\n",
       "        [3.52970745e-01, 8.01744579e-01, 4.78692038e-01, 5.00254070e-01,\n",
       "         5.35117246e-01, 7.11526737e-01]],\n",
       "\n",
       "       [[1.30077886e-01, 2.91332583e-01, 7.06136302e-01, 8.09528128e-01,\n",
       "         3.00753662e-02, 2.19744146e-01],\n",
       "        [8.46555061e-01, 9.02666760e-01, 3.56665387e-02, 2.37551014e-01,\n",
       "         3.18050912e-01, 9.82100401e-01]]])"
      ]
     },
     "execution_count": 124,
     "metadata": {},
     "output_type": "execute_result"
    }
   ],
   "source": [
    "loaded"
   ]
  }
 ],
 "metadata": {
  "kernelspec": {
   "display_name": "Python 3 (ipykernel)",
   "language": "python",
   "name": "python3"
  },
  "language_info": {
   "codemirror_mode": {
    "name": "ipython",
    "version": 3
   },
   "file_extension": ".py",
   "mimetype": "text/x-python",
   "name": "python",
   "nbconvert_exporter": "python",
   "pygments_lexer": "ipython3",
   "version": "3.9.12"
  }
 },
 "nbformat": 4,
 "nbformat_minor": 5
}
