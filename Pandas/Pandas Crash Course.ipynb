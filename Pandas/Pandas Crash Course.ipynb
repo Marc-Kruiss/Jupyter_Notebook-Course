{
 "cells": [
  {
   "cell_type": "code",
   "execution_count": 1,
   "id": "15377405",
   "metadata": {},
   "outputs": [],
   "source": [
    "import pandas as pd"
   ]
  },
  {
   "cell_type": "code",
   "execution_count": null,
   "id": "4ea48fe7",
   "metadata": {},
   "outputs": [],
   "source": [
    "pd."
   ]
  },
  {
   "cell_type": "markdown",
   "id": "9ce1d8b6",
   "metadata": {},
   "source": [
    "# 1. Create"
   ]
  },
  {
   "cell_type": "markdown",
   "id": "0bb37f9c",
   "metadata": {},
   "source": [
    "# 1.1 Create from CSV"
   ]
  },
  {
   "cell_type": "code",
   "execution_count": null,
   "id": "ce5d7b92",
   "metadata": {},
   "outputs": [],
   "source": []
  },
  {
   "cell_type": "markdown",
   "id": "a73d7979",
   "metadata": {},
   "source": [
    "# 1.2 Create from a Dictionary"
   ]
  },
  {
   "cell_type": "code",
   "execution_count": null,
   "id": "848b5391",
   "metadata": {},
   "outputs": [],
   "source": []
  },
  {
   "cell_type": "code",
   "execution_count": null,
   "id": "afe81908",
   "metadata": {},
   "outputs": [],
   "source": []
  },
  {
   "cell_type": "markdown",
   "id": "a1fca42e",
   "metadata": {},
   "source": [
    "# 2. Update"
   ]
  },
  {
   "cell_type": "code",
   "execution_count": null,
   "id": "b2605191",
   "metadata": {},
   "outputs": [],
   "source": []
  },
  {
   "cell_type": "code",
   "execution_count": null,
   "id": "834b1f23",
   "metadata": {},
   "outputs": [],
   "source": []
  },
  {
   "cell_type": "code",
   "execution_count": null,
   "id": "ffd6f945",
   "metadata": {},
   "outputs": [],
   "source": []
  },
  {
   "cell_type": "code",
   "execution_count": null,
   "id": "c736ef50",
   "metadata": {},
   "outputs": [],
   "source": []
  },
  {
   "cell_type": "markdown",
   "id": "a6345337",
   "metadata": {},
   "source": [
    "# 3. Read"
   ]
  },
  {
   "cell_type": "code",
   "execution_count": null,
   "id": "6b493c0f",
   "metadata": {},
   "outputs": [],
   "source": []
  },
  {
   "cell_type": "code",
   "execution_count": null,
   "id": "654efe75",
   "metadata": {},
   "outputs": [],
   "source": []
  },
  {
   "cell_type": "code",
   "execution_count": null,
   "id": "511dade6",
   "metadata": {},
   "outputs": [],
   "source": []
  },
  {
   "cell_type": "code",
   "execution_count": null,
   "id": "2eb3137c",
   "metadata": {},
   "outputs": [],
   "source": []
  },
  {
   "cell_type": "markdown",
   "id": "38dd9575",
   "metadata": {},
   "source": [
    "# 4. Delete/Output"
   ]
  }
 ],
 "metadata": {
  "kernelspec": {
   "display_name": "Python 3 (ipykernel)",
   "language": "python",
   "name": "python3"
  },
  "language_info": {
   "codemirror_mode": {
    "name": "ipython",
    "version": 3
   },
   "file_extension": ".py",
   "mimetype": "text/x-python",
   "name": "python",
   "nbconvert_exporter": "python",
   "pygments_lexer": "ipython3",
   "version": "3.9.12"
  }
 },
 "nbformat": 4,
 "nbformat_minor": 5
}
