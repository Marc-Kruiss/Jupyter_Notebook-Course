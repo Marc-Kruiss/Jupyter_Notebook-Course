{
 "cells": [
  {
   "cell_type": "markdown",
   "id": "01b050a3",
   "metadata": {},
   "source": [
    "# 0. Variables"
   ]
  },
  {
   "cell_type": "code",
   "execution_count": 18,
   "id": "b87daf59",
   "metadata": {},
   "outputs": [],
   "source": [
    "space_name = \"Astronaut Marc\""
   ]
  },
  {
   "cell_type": "code",
   "execution_count": 19,
   "id": "ad4129d8",
   "metadata": {},
   "outputs": [
    {
     "name": "stdout",
     "output_type": "stream",
     "text": [
      "Astronaut Marc\n"
     ]
    }
   ],
   "source": [
    "print(space_name)"
   ]
  },
  {
   "cell_type": "code",
   "execution_count": 20,
   "id": "c6317c13",
   "metadata": {},
   "outputs": [
    {
     "data": {
      "text/plain": [
       "str"
      ]
     },
     "execution_count": 20,
     "metadata": {},
     "output_type": "execute_result"
    }
   ],
   "source": [
    "type(space_name)"
   ]
  },
  {
   "cell_type": "markdown",
   "id": "d264a710",
   "metadata": {},
   "source": [
    "# 1. Datatypes"
   ]
  },
  {
   "cell_type": "code",
   "execution_count": 21,
   "id": "f22e5902",
   "metadata": {},
   "outputs": [],
   "source": [
    "# This is declaring a variable as a STRING\n",
    "test_variable = \"pluto\""
   ]
  },
  {
   "cell_type": "code",
   "execution_count": 22,
   "id": "8fd86dee",
   "metadata": {},
   "outputs": [
    {
     "data": {
      "text/plain": [
       "int"
      ]
     },
     "execution_count": 22,
     "metadata": {},
     "output_type": "execute_result"
    }
   ],
   "source": [
    "# This is declaring a variable as an Integer\n",
    "integer_variable = 12345\n",
    "type(integer_variable)"
   ]
  },
  {
   "cell_type": "code",
   "execution_count": 23,
   "id": "48b952b1",
   "metadata": {},
   "outputs": [
    {
     "data": {
      "text/plain": [
       "12355"
      ]
     },
     "execution_count": 23,
     "metadata": {},
     "output_type": "execute_result"
    }
   ],
   "source": [
    "integer_variable+10"
   ]
  },
  {
   "cell_type": "code",
   "execution_count": 24,
   "id": "f0b36079",
   "metadata": {},
   "outputs": [
    {
     "data": {
      "text/plain": [
       "bool"
      ]
     },
     "execution_count": 24,
     "metadata": {},
     "output_type": "execute_result"
    }
   ],
   "source": [
    "# This is assigning a BOOLEAN value to a variable\n",
    "bool_variable = bool(0)\n",
    "type(bool_variable)"
   ]
  },
  {
   "cell_type": "code",
   "execution_count": 25,
   "id": "b73f1b0e",
   "metadata": {},
   "outputs": [
    {
     "data": {
      "text/plain": [
       "list"
      ]
     },
     "execution_count": 25,
     "metadata": {},
     "output_type": "execute_result"
    }
   ],
   "source": [
    "# creating a LIST variable\n",
    "list_variable = [1,2,3,4,82.5,23.3,1,2,3,1,2,3]\n",
    "type(list_variable)"
   ]
  },
  {
   "cell_type": "code",
   "execution_count": 26,
   "id": "c07e5906",
   "metadata": {},
   "outputs": [
    {
     "data": {
      "text/plain": [
       "[1, 2, 3, 4, 82.5, 23.3, 1, 2, 3, 1, 2, 3]"
      ]
     },
     "execution_count": 26,
     "metadata": {},
     "output_type": "execute_result"
    }
   ],
   "source": [
    "list_variable"
   ]
  },
  {
   "cell_type": "code",
   "execution_count": 27,
   "id": "48194eb9",
   "metadata": {},
   "outputs": [
    {
     "data": {
      "text/plain": [
       "1"
      ]
     },
     "execution_count": 27,
     "metadata": {},
     "output_type": "execute_result"
    }
   ],
   "source": [
    "list_variable[0]"
   ]
  },
  {
   "cell_type": "code",
   "execution_count": 28,
   "id": "ed6cee90",
   "metadata": {},
   "outputs": [
    {
     "data": {
      "text/plain": [
       "5"
      ]
     },
     "execution_count": 28,
     "metadata": {},
     "output_type": "execute_result"
    }
   ],
   "source": [
    "list_variable[0]=5\n",
    "list_variable[0]"
   ]
  },
  {
   "cell_type": "code",
   "execution_count": 29,
   "id": "136fec93",
   "metadata": {},
   "outputs": [
    {
     "data": {
      "text/plain": [
       "tuple"
      ]
     },
     "execution_count": 29,
     "metadata": {},
     "output_type": "execute_result"
    }
   ],
   "source": [
    "# Create a TUPLE\n",
    "# Its IMMUTABLE (values can't be changed)\n",
    "tuple_variable = (1,2,3,4,82.5,23.3,1,2,3,1,2,3)\n",
    "type(tuple_variable)"
   ]
  },
  {
   "cell_type": "code",
   "execution_count": 30,
   "id": "705f9203",
   "metadata": {},
   "outputs": [
    {
     "data": {
      "text/plain": [
       "(1, 2, 3, 4, 82.5, 23.3, 1, 2, 3, 1, 2, 3)"
      ]
     },
     "execution_count": 30,
     "metadata": {},
     "output_type": "execute_result"
    }
   ],
   "source": [
    "tuple_variable"
   ]
  },
  {
   "cell_type": "code",
   "execution_count": 31,
   "id": "de593a1d",
   "metadata": {},
   "outputs": [
    {
     "data": {
      "text/plain": [
       "1"
      ]
     },
     "execution_count": 31,
     "metadata": {},
     "output_type": "execute_result"
    }
   ],
   "source": [
    "tuple_variable[0]"
   ]
  },
  {
   "cell_type": "code",
   "execution_count": 32,
   "id": "00e16007",
   "metadata": {},
   "outputs": [],
   "source": [
    "# tuple_variable[0]=5 => Error"
   ]
  },
  {
   "cell_type": "code",
   "execution_count": 33,
   "id": "d6313958",
   "metadata": {},
   "outputs": [
    {
     "data": {
      "text/plain": [
       "set"
      ]
     },
     "execution_count": 33,
     "metadata": {},
     "output_type": "execute_result"
    }
   ],
   "source": [
    "# This is creating a SET variable\n",
    "# IMMUTABLE (values can't be changed)\n",
    "# No DUPLICATES\n",
    "set_variable = {1,5,3,4,82.5,23.3,3,1,2,3,1,2,3}\n",
    "type(set_variable)"
   ]
  },
  {
   "cell_type": "code",
   "execution_count": 34,
   "id": "5d0310ee",
   "metadata": {},
   "outputs": [
    {
     "data": {
      "text/plain": [
       "[1, 2, 3, 4, 5, 82.5, 23.3]"
      ]
     },
     "execution_count": 34,
     "metadata": {},
     "output_type": "execute_result"
    }
   ],
   "source": [
    "# Type casting list, to set back to list, to get rid of duplicates\n",
    "list(set(list_variable))"
   ]
  },
  {
   "cell_type": "code",
   "execution_count": 35,
   "id": "0b4d3e0f",
   "metadata": {},
   "outputs": [
    {
     "data": {
      "text/plain": [
       "dict"
      ]
     },
     "execution_count": 35,
     "metadata": {},
     "output_type": "execute_result"
    }
   ],
   "source": [
    "# Defining a dictionary variable\n",
    "dict_variable = {'name':'Marc', 'favourite_color':'red', 'age':20}\n",
    "type(dict_variable)"
   ]
  },
  {
   "cell_type": "code",
   "execution_count": 36,
   "id": "e28e9e64",
   "metadata": {},
   "outputs": [
    {
     "data": {
      "text/plain": [
       "'Marc'"
      ]
     },
     "execution_count": 36,
     "metadata": {},
     "output_type": "execute_result"
    }
   ],
   "source": [
    "dict_variable['name']"
   ]
  },
  {
   "cell_type": "markdown",
   "id": "c079cc36",
   "metadata": {},
   "source": [
    "# 2. Lists"
   ]
  },
  {
   "cell_type": "code",
   "execution_count": 37,
   "id": "ef4391f2",
   "metadata": {},
   "outputs": [],
   "source": [
    "# Create\n",
    "names = [\"neil armstrong\", 'buzz aldrin', 'sally ride', 'yuri gagarin', 'elon musk']"
   ]
  },
  {
   "cell_type": "code",
   "execution_count": 38,
   "id": "089107a0",
   "metadata": {},
   "outputs": [
    {
     "data": {
      "text/plain": [
       "['neil armstrong', 'buzz aldrin', 'sally ride', 'yuri gagarin', 'elon musk']"
      ]
     },
     "execution_count": 38,
     "metadata": {},
     "output_type": "execute_result"
    }
   ],
   "source": [
    "#Read\n",
    "names"
   ]
  },
  {
   "cell_type": "code",
   "execution_count": 39,
   "id": "c9f55dd4",
   "metadata": {},
   "outputs": [
    {
     "data": {
      "text/plain": [
       "'neil armstrong'"
      ]
     },
     "execution_count": 39,
     "metadata": {},
     "output_type": "execute_result"
    }
   ],
   "source": [
    "# Reading using Indexing\n",
    "names[0]"
   ]
  },
  {
   "cell_type": "code",
   "execution_count": 40,
   "id": "32e56611",
   "metadata": {},
   "outputs": [
    {
     "data": {
      "text/plain": [
       "'elon musk'"
      ]
     },
     "execution_count": 40,
     "metadata": {},
     "output_type": "execute_result"
    }
   ],
   "source": [
    "names[-1]"
   ]
  },
  {
   "cell_type": "code",
   "execution_count": 41,
   "id": "780ec78f",
   "metadata": {},
   "outputs": [
    {
     "data": {
      "text/plain": [
       "5"
      ]
     },
     "execution_count": 41,
     "metadata": {},
     "output_type": "execute_result"
    }
   ],
   "source": [
    "len(names)"
   ]
  },
  {
   "cell_type": "code",
   "execution_count": 42,
   "id": "c7267a25",
   "metadata": {},
   "outputs": [
    {
     "data": {
      "text/plain": [
       "['neil armstrong', 'buzz aldrin', 'sally ride', 'yuri gagarin', 'marc kruiß']"
      ]
     },
     "execution_count": 42,
     "metadata": {},
     "output_type": "execute_result"
    }
   ],
   "source": [
    "# Update\n",
    "names[-1] = 'marc kruiß'\n",
    "names"
   ]
  },
  {
   "cell_type": "code",
   "execution_count": 43,
   "id": "04a03061",
   "metadata": {},
   "outputs": [],
   "source": [
    "names.append('elon musk')"
   ]
  },
  {
   "cell_type": "code",
   "execution_count": 44,
   "id": "387f7cfc",
   "metadata": {
    "scrolled": true
   },
   "outputs": [
    {
     "data": {
      "text/plain": [
       "['neil armstrong',\n",
       " 'buzz aldrin',\n",
       " 'sally ride',\n",
       " 'yuri gagarin',\n",
       " 'marc kruiß',\n",
       " 'elon musk']"
      ]
     },
     "execution_count": 44,
     "metadata": {},
     "output_type": "execute_result"
    }
   ],
   "source": [
    "names"
   ]
  },
  {
   "cell_type": "code",
   "execution_count": 48,
   "id": "149f823c",
   "metadata": {},
   "outputs": [],
   "source": [
    "names.insert(0,'richard branson')"
   ]
  },
  {
   "cell_type": "code",
   "execution_count": 49,
   "id": "2ed08999",
   "metadata": {},
   "outputs": [
    {
     "data": {
      "text/plain": [
       "['richard branson',\n",
       " 'neil armstrong',\n",
       " 'buzz aldrin',\n",
       " 'sally ride',\n",
       " 'yuri gagarin',\n",
       " 'marc kruiß',\n",
       " 'elon musk']"
      ]
     },
     "execution_count": 49,
     "metadata": {},
     "output_type": "execute_result"
    }
   ],
   "source": [
    "names"
   ]
  },
  {
   "cell_type": "code",
   "execution_count": 50,
   "id": "188fdeee",
   "metadata": {},
   "outputs": [],
   "source": [
    "# Delete"
   ]
  },
  {
   "cell_type": "code",
   "execution_count": 55,
   "id": "74e0730d",
   "metadata": {},
   "outputs": [
    {
     "name": "stdout",
     "output_type": "stream",
     "text": [
      "Object `del` not found.\n"
     ]
    }
   ],
   "source": [
    "del names[-2]"
   ]
  },
  {
   "cell_type": "code",
   "execution_count": 54,
   "id": "d5ecb1d0",
   "metadata": {},
   "outputs": [
    {
     "data": {
      "text/plain": [
       "['richard branson',\n",
       " 'neil armstrong',\n",
       " 'buzz aldrin',\n",
       " 'sally ride',\n",
       " 'yuri gagarin',\n",
       " 'elon musk']"
      ]
     },
     "execution_count": 54,
     "metadata": {},
     "output_type": "execute_result"
    }
   ],
   "source": [
    "names"
   ]
  },
  {
   "cell_type": "markdown",
   "id": "00ebb0d5",
   "metadata": {},
   "source": [
    "# 3. Dictionaries"
   ]
  },
  {
   "cell_type": "code",
   "execution_count": 59,
   "id": "75559a8c",
   "metadata": {},
   "outputs": [],
   "source": [
    "# Create\n",
    "astronaut = {\n",
    "    \"name\":\"elon musk\",\n",
    "    \"suit_size\": \"large\",\n",
    "    \"allergies\": \"peanuts\"\n",
    "}"
   ]
  },
  {
   "cell_type": "code",
   "execution_count": null,
   "id": "a6690e4b",
   "metadata": {},
   "outputs": [],
   "source": [
    "# Read"
   ]
  },
  {
   "cell_type": "code",
   "execution_count": 60,
   "id": "28968dae",
   "metadata": {},
   "outputs": [
    {
     "data": {
      "text/plain": [
       "{'name': 'elon musk', 'suit_size': 'large', 'allergies': 'peanuts'}"
      ]
     },
     "execution_count": 60,
     "metadata": {},
     "output_type": "execute_result"
    }
   ],
   "source": [
    "astronaut"
   ]
  },
  {
   "cell_type": "code",
   "execution_count": 61,
   "id": "91251b57",
   "metadata": {},
   "outputs": [
    {
     "data": {
      "text/plain": [
       "'large'"
      ]
     },
     "execution_count": 61,
     "metadata": {},
     "output_type": "execute_result"
    }
   ],
   "source": [
    "astronaut['suit_size']"
   ]
  },
  {
   "cell_type": "code",
   "execution_count": 64,
   "id": "986ebec4",
   "metadata": {},
   "outputs": [
    {
     "data": {
      "text/plain": [
       "'name'"
      ]
     },
     "execution_count": 64,
     "metadata": {},
     "output_type": "execute_result"
    }
   ],
   "source": [
    "list(astronaut.keys())[0]"
   ]
  },
  {
   "cell_type": "code",
   "execution_count": null,
   "id": "07d4c5ed",
   "metadata": {},
   "outputs": [],
   "source": [
    "# Update"
   ]
  },
  {
   "cell_type": "code",
   "execution_count": 65,
   "id": "e1b9bfa1",
   "metadata": {},
   "outputs": [],
   "source": [
    "astronaut['allergies']='mango'"
   ]
  },
  {
   "cell_type": "code",
   "execution_count": 66,
   "id": "4dc94e6d",
   "metadata": {
    "scrolled": true
   },
   "outputs": [
    {
     "data": {
      "text/plain": [
       "{'name': 'elon musk', 'suit_size': 'large', 'allergies': 'mango'}"
      ]
     },
     "execution_count": 66,
     "metadata": {},
     "output_type": "execute_result"
    }
   ],
   "source": [
    "astronaut"
   ]
  },
  {
   "cell_type": "code",
   "execution_count": 67,
   "id": "14b9e9d9",
   "metadata": {},
   "outputs": [],
   "source": [
    "astronaut['space_ship']='Galactic 1'"
   ]
  },
  {
   "cell_type": "code",
   "execution_count": 68,
   "id": "8ef0ae1e",
   "metadata": {},
   "outputs": [
    {
     "data": {
      "text/plain": [
       "{'name': 'elon musk',\n",
       " 'suit_size': 'large',\n",
       " 'allergies': 'mango',\n",
       " 'space_ship': 'Galactic 1'}"
      ]
     },
     "execution_count": 68,
     "metadata": {},
     "output_type": "execute_result"
    }
   ],
   "source": [
    "astronaut"
   ]
  },
  {
   "cell_type": "code",
   "execution_count": null,
   "id": "bc70a39f",
   "metadata": {},
   "outputs": [],
   "source": [
    "# Delete"
   ]
  },
  {
   "cell_type": "code",
   "execution_count": 69,
   "id": "5c860c4f",
   "metadata": {},
   "outputs": [],
   "source": [
    "del astronaut['space_ship']"
   ]
  },
  {
   "cell_type": "code",
   "execution_count": 70,
   "id": "96983742",
   "metadata": {},
   "outputs": [
    {
     "data": {
      "text/plain": [
       "{'name': 'elon musk', 'suit_size': 'large', 'allergies': 'mango'}"
      ]
     },
     "execution_count": 70,
     "metadata": {},
     "output_type": "execute_result"
    }
   ],
   "source": [
    "astronaut"
   ]
  }
 ],
 "metadata": {
  "kernelspec": {
   "display_name": "Python 3 (ipykernel)",
   "language": "python",
   "name": "python3"
  },
  "language_info": {
   "codemirror_mode": {
    "name": "ipython",
    "version": 3
   },
   "file_extension": ".py",
   "mimetype": "text/x-python",
   "name": "python",
   "nbconvert_exporter": "python",
   "pygments_lexer": "ipython3",
   "version": "3.9.12"
  }
 },
 "nbformat": 4,
 "nbformat_minor": 5
}
