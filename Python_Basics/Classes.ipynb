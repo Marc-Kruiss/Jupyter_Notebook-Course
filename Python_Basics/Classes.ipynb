{
 "cells": [
  {
   "cell_type": "markdown",
   "id": "f86d0d7d",
   "metadata": {},
   "source": [
    "# 5. Classes"
   ]
  },
  {
   "cell_type": "code",
   "execution_count": 32,
   "id": "470307e8",
   "metadata": {},
   "outputs": [],
   "source": [
    "# Classes as boilerplates for objects\n",
    "class Person():\n",
    "    # The method that runs as soons as you create a object - initialise\n",
    "    def __init__(self, name, age, color):\n",
    "        # Create some attributes for our person class\n",
    "        self.name = name\n",
    "        self.age = age\n",
    "        self.color = color\n",
    "        \n",
    "    # Date of birth method\n",
    "    def year_of_birth(self):\n",
    "        return 2022-self.age\n",
    "    \n",
    "    # Projected age\n",
    "    def project_age(self, years=5):\n",
    "        return self.age+years"
   ]
  },
  {
   "cell_type": "code",
   "execution_count": 33,
   "id": "ab7ad3a4",
   "metadata": {},
   "outputs": [],
   "source": [
    "new_person = Person(name=\"Marc\", age=20, color=\"Blue\")"
   ]
  },
  {
   "cell_type": "code",
   "execution_count": 34,
   "id": "53568d0c",
   "metadata": {},
   "outputs": [
    {
     "data": {
      "text/plain": [
       "'Blue'"
      ]
     },
     "execution_count": 34,
     "metadata": {},
     "output_type": "execute_result"
    }
   ],
   "source": [
    "# Accessing a class attribute\n",
    "new_person.color"
   ]
  },
  {
   "cell_type": "code",
   "execution_count": 35,
   "id": "60556336",
   "metadata": {},
   "outputs": [
    {
     "data": {
      "text/plain": [
       "2002"
      ]
     },
     "execution_count": 35,
     "metadata": {},
     "output_type": "execute_result"
    }
   ],
   "source": [
    "# Run a method\n",
    "new_person.year_of_birth()"
   ]
  },
  {
   "cell_type": "code",
   "execution_count": 36,
   "id": "d264941a",
   "metadata": {},
   "outputs": [
    {
     "data": {
      "text/plain": [
       "25"
      ]
     },
     "execution_count": 36,
     "metadata": {},
     "output_type": "execute_result"
    }
   ],
   "source": [
    "new_person.project_age()"
   ]
  },
  {
   "cell_type": "markdown",
   "id": "7fa18b35",
   "metadata": {},
   "source": [
    "# 6 Inheritance\n",
    "- PARENT is the class passing down attributes and methods\n",
    "- CHILD is the class inheriting the methods and attributes\n"
   ]
  },
  {
   "cell_type": "code",
   "execution_count": 37,
   "id": "92a5a6a0",
   "metadata": {},
   "outputs": [],
   "source": [
    "# Create a child class\n",
    "class Astronaut(Person):\n",
    "    # Define initialization funciton\n",
    "    def __init__(self, name, age, color, mission_length_in_months):\n",
    "        # super gives us inheritance \n",
    "        super().__init__(name,age,color)\n",
    "        self.mission_length_in_months=mission_length_in_months\n",
    "    \n",
    "    # Method for calculating age on return\n",
    "    def age_on_return(self):\n",
    "        return self.project_age(years=int(self.mission_length_in_months/12))"
   ]
  },
  {
   "cell_type": "code",
   "execution_count": 38,
   "id": "2c8cebd2",
   "metadata": {},
   "outputs": [],
   "source": [
    "new_astronaut = Astronaut(\"Marc Kruiß\", 20, \"Red\", 48)"
   ]
  },
  {
   "cell_type": "code",
   "execution_count": 39,
   "id": "f06f1de7",
   "metadata": {},
   "outputs": [
    {
     "data": {
      "text/plain": [
       "'Marc Kruiß'"
      ]
     },
     "execution_count": 39,
     "metadata": {},
     "output_type": "execute_result"
    }
   ],
   "source": [
    "# Access parent like attribute\n",
    "new_astronaut.name"
   ]
  },
  {
   "cell_type": "code",
   "execution_count": 40,
   "id": "3f36cd1d",
   "metadata": {},
   "outputs": [
    {
     "data": {
      "text/plain": [
       "2002"
      ]
     },
     "execution_count": 40,
     "metadata": {},
     "output_type": "execute_result"
    }
   ],
   "source": [
    "# Access parent like method\n",
    "new_astronaut.year_of_birth()"
   ]
  },
  {
   "cell_type": "code",
   "execution_count": 41,
   "id": "27781afd",
   "metadata": {},
   "outputs": [
    {
     "data": {
      "text/plain": [
       "24"
      ]
     },
     "execution_count": 41,
     "metadata": {},
     "output_type": "execute_result"
    }
   ],
   "source": [
    "new_astronaut.age_on_return()"
   ]
  }
 ],
 "metadata": {
  "kernelspec": {
   "display_name": "Python 3 (ipykernel)",
   "language": "python",
   "name": "python3"
  },
  "language_info": {
   "codemirror_mode": {
    "name": "ipython",
    "version": 3
   },
   "file_extension": ".py",
   "mimetype": "text/x-python",
   "name": "python",
   "nbconvert_exporter": "python",
   "pygments_lexer": "ipython3",
   "version": "3.9.12"
  }
 },
 "nbformat": 4,
 "nbformat_minor": 5
}
