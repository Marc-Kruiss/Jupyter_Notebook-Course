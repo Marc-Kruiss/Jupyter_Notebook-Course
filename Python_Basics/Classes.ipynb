{
 "cells": [
  {
   "cell_type": "markdown",
   "id": "6eec412b",
   "metadata": {},
   "source": [
    "# 5. Classes"
   ]
  },
  {
   "cell_type": "code",
   "execution_count": 10,
   "id": "27191f57",
   "metadata": {},
   "outputs": [],
   "source": [
    "# Classes as boilerplates for objects\n",
    "class Person():\n",
    "    # The method that runs as soons as you create a object - initialise\n",
    "    def __init__(self, name, age, color):\n",
    "        # Create some attributes for our person class\n",
    "        self.name = name\n",
    "        self.age = age\n",
    "        self.color = color\n",
    "        \n",
    "    # Date of birth method\n",
    "    def year_of_birth(self):\n",
    "        return 2022-self.age\n",
    "    \n",
    "    # Projected age\n",
    "    def project_age(self, years=5):\n",
    "        return self.age+years"
   ]
  },
  {
   "cell_type": "code",
   "execution_count": 11,
   "id": "9009ddcb",
   "metadata": {},
   "outputs": [],
   "source": [
    "new_person = Person(name=\"Marc\", age=20, color=\"Blue\")"
   ]
  },
  {
   "cell_type": "code",
   "execution_count": 8,
   "id": "77f7c44c",
   "metadata": {},
   "outputs": [
    {
     "data": {
      "text/plain": [
       "'Blue'"
      ]
     },
     "execution_count": 8,
     "metadata": {},
     "output_type": "execute_result"
    }
   ],
   "source": [
    "# Accessing a class attribute\n",
    "new_person.color"
   ]
  },
  {
   "cell_type": "code",
   "execution_count": 9,
   "id": "2b0355e3",
   "metadata": {},
   "outputs": [
    {
     "data": {
      "text/plain": [
       "2002"
      ]
     },
     "execution_count": 9,
     "metadata": {},
     "output_type": "execute_result"
    }
   ],
   "source": [
    "# Run a method\n",
    "new_person.year_of_birth()"
   ]
  },
  {
   "cell_type": "code",
   "execution_count": 15,
   "id": "62aa6357",
   "metadata": {},
   "outputs": [
    {
     "data": {
      "text/plain": [
       "25"
      ]
     },
     "execution_count": 15,
     "metadata": {},
     "output_type": "execute_result"
    }
   ],
   "source": [
    "new_person.project_age()"
   ]
  },
  {
   "cell_type": "code",
   "execution_count": null,
   "id": "4c78fd4f",
   "metadata": {},
   "outputs": [],
   "source": []
  }
 ],
 "metadata": {
  "kernelspec": {
   "display_name": "Python 3 (ipykernel)",
   "language": "python",
   "name": "python3"
  },
  "language_info": {
   "codemirror_mode": {
    "name": "ipython",
    "version": 3
   },
   "file_extension": ".py",
   "mimetype": "text/x-python",
   "name": "python",
   "nbconvert_exporter": "python",
   "pygments_lexer": "ipython3",
   "version": "3.9.12"
  }
 },
 "nbformat": 4,
 "nbformat_minor": 5
}
