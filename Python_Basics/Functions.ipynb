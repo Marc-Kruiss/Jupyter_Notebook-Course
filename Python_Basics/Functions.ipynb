{
 "cells": [
  {
   "cell_type": "markdown",
   "id": "978e017f",
   "metadata": {},
   "source": [
    "# 6. Functions"
   ]
  },
  {
   "cell_type": "code",
   "execution_count": 27,
   "id": "5f1e3ea8",
   "metadata": {},
   "outputs": [],
   "source": [
    "# Defining a function in Python\n",
    "def launchpad_welcome():\n",
    "    print(\"Hello\")\n",
    "    print(1+2)\n",
    "    print(3+4)"
   ]
  },
  {
   "cell_type": "code",
   "execution_count": 28,
   "id": "709960f7",
   "metadata": {},
   "outputs": [
    {
     "name": "stdout",
     "output_type": "stream",
     "text": [
      "Hello\n",
      "3\n",
      "7\n"
     ]
    }
   ],
   "source": [
    "launchpad_welcome()"
   ]
  },
  {
   "cell_type": "code",
   "execution_count": 29,
   "id": "5c4c9a5a",
   "metadata": {},
   "outputs": [
    {
     "name": "stdout",
     "output_type": "stream",
     "text": [
      "Welcome Elon Musk\n"
     ]
    }
   ],
   "source": [
    "# String formatting\n",
    "print('Welcome {} {}'.format('Elon','Musk'))"
   ]
  },
  {
   "cell_type": "code",
   "execution_count": 30,
   "id": "f98c46e0",
   "metadata": {},
   "outputs": [],
   "source": [
    "names = ['neil armstrong', 'buzz aldrin', 'sally ride', 'yuri gagarin' 'elon musk']"
   ]
  },
  {
   "cell_type": "code",
   "execution_count": 31,
   "id": "62ec5f50",
   "metadata": {},
   "outputs": [],
   "source": [
    "# Defining function\n",
    "def custom_welcome(name):\n",
    "    print('Welcome {}'.format(name))"
   ]
  },
  {
   "cell_type": "code",
   "execution_count": 32,
   "id": "e838bd90",
   "metadata": {},
   "outputs": [
    {
     "name": "stdout",
     "output_type": "stream",
     "text": [
      "Welcome Marc\n"
     ]
    }
   ],
   "source": [
    "# Running function\n",
    "custom_welcome('Marc')"
   ]
  },
  {
   "cell_type": "code",
   "execution_count": 33,
   "id": "fd0f3863",
   "metadata": {},
   "outputs": [
    {
     "name": "stdout",
     "output_type": "stream",
     "text": [
      "Welcome neil armstrong\n",
      "Welcome buzz aldrin\n",
      "Welcome sally ride\n",
      "Welcome yuri gagarinelon musk\n"
     ]
    }
   ],
   "source": [
    "for name in names:\n",
    "    custom_welcome(name)"
   ]
  },
  {
   "cell_type": "code",
   "execution_count": 34,
   "id": "8c8efb6f",
   "metadata": {},
   "outputs": [],
   "source": [
    "# Defining function\n",
    "def custom_welcome_to_ship(name, space_ship):\n",
    "    print('Welcome {} to the {}'.format(name, space_ship))"
   ]
  },
  {
   "cell_type": "code",
   "execution_count": 35,
   "id": "0223da34",
   "metadata": {},
   "outputs": [
    {
     "name": "stdout",
     "output_type": "stream",
     "text": [
      "Welcome Marc Kruiß to the Galactic 1\n"
     ]
    }
   ],
   "source": [
    "custom_welcome_to_ship('Marc Kruiß', 'Galactic 1')"
   ]
  },
  {
   "cell_type": "code",
   "execution_count": 36,
   "id": "863a9c5d",
   "metadata": {},
   "outputs": [],
   "source": [
    "space_ships=['Galactiv 1', 'Galactic 2', 'USS Voyager', 'Amazing Space Ship', 'Microsoft Ship']"
   ]
  },
  {
   "cell_type": "code",
   "execution_count": 41,
   "id": "5a899518",
   "metadata": {},
   "outputs": [
    {
     "name": "stdout",
     "output_type": "stream",
     "text": [
      "Welcome neil armstrong to the Galactiv 1\n",
      "Welcome buzz aldrin to the Galactic 2\n",
      "Welcome sally ride to the USS Voyager\n",
      "Welcome yuri gagarinelon musk to the Amazing Space Ship\n"
     ]
    }
   ],
   "source": [
    "# Used the enumerate function to get the positional index and the name\n",
    "for idx,name in enumerate(names):\n",
    "    ship = space_ships[idx]\n",
    "    custom_welcome_to_ship(name,ship)"
   ]
  },
  {
   "cell_type": "code",
   "execution_count": 42,
   "id": "47bbb6b9",
   "metadata": {},
   "outputs": [],
   "source": [
    "# This is using keyword arguments\n",
    "def space_suit(color=\"Blue\"):\n",
    "    print('Your space suit is {}'.format(color))"
   ]
  },
  {
   "cell_type": "code",
   "execution_count": 47,
   "id": "10953839",
   "metadata": {},
   "outputs": [
    {
     "name": "stdout",
     "output_type": "stream",
     "text": [
      "Your space suit is Red\n"
     ]
    }
   ],
   "source": [
    "space_suit(color=\"Red\")"
   ]
  },
  {
   "cell_type": "code",
   "execution_count": 53,
   "id": "8798ef93",
   "metadata": {},
   "outputs": [],
   "source": [
    "def space_suit_welcome(name,space_ship, color=\"Blue\", allergies=\"None\"):\n",
    "    print('Welcome {} to the {}, your space suit is {}, you have {} allergies'.format(name,space_ship, color,allergies))"
   ]
  },
  {
   "cell_type": "code",
   "execution_count": 56,
   "id": "a3af176e",
   "metadata": {},
   "outputs": [
    {
     "name": "stdout",
     "output_type": "stream",
     "text": [
      "Welcome Elon Musk to the Galactic 1, your space suit is Red, you have Many allergies\n"
     ]
    }
   ],
   "source": [
    "space_suit_welcome('Elon Musk', 'Galactic 1',allergies=\"Many\",color='Red')"
   ]
  },
  {
   "cell_type": "code",
   "execution_count": 58,
   "id": "8ff11632",
   "metadata": {},
   "outputs": [],
   "source": [
    "def space_suit_welcome_with_return(name,space_ship, color=\"Blue\", allergies=\"None\"):\n",
    "    return 'Welcome {} to the {}, your space suit is {}, you have {} allergies'.format(name,space_ship, color,allergies)"
   ]
  },
  {
   "cell_type": "code",
   "execution_count": 60,
   "id": "d77dd797",
   "metadata": {},
   "outputs": [],
   "source": [
    "welcome = space_suit_welcome_with_return('Elon Musk', 'Galactic 1',allergies=\"Many\",color='Red')"
   ]
  },
  {
   "cell_type": "code",
   "execution_count": 61,
   "id": "fa40b3a5",
   "metadata": {},
   "outputs": [
    {
     "name": "stdout",
     "output_type": "stream",
     "text": [
      "Welcome Elon Musk to the Galactic 1, your space suit is Red, you have Many allergies\n"
     ]
    }
   ],
   "source": [
    "print(welcome)"
   ]
  },
  {
   "cell_type": "code",
   "execution_count": 63,
   "id": "78429b6b",
   "metadata": {},
   "outputs": [],
   "source": [
    "# lambda function - anonymous function\n",
    "pi = lambda x: x*3.14"
   ]
  },
  {
   "cell_type": "code",
   "execution_count": 65,
   "id": "7562ef6f",
   "metadata": {},
   "outputs": [],
   "source": [
    "result = pi(2)"
   ]
  },
  {
   "cell_type": "code",
   "execution_count": 66,
   "id": "4e0f48c5",
   "metadata": {},
   "outputs": [
    {
     "data": {
      "text/plain": [
       "6.28"
      ]
     },
     "execution_count": 66,
     "metadata": {},
     "output_type": "execute_result"
    }
   ],
   "source": [
    "result"
   ]
  },
  {
   "cell_type": "code",
   "execution_count": null,
   "id": "c18f0a3d",
   "metadata": {},
   "outputs": [],
   "source": []
  }
 ],
 "metadata": {
  "kernelspec": {
   "display_name": "Python 3 (ipykernel)",
   "language": "python",
   "name": "python3"
  },
  "language_info": {
   "codemirror_mode": {
    "name": "ipython",
    "version": 3
   },
   "file_extension": ".py",
   "mimetype": "text/x-python",
   "name": "python",
   "nbconvert_exporter": "python",
   "pygments_lexer": "ipython3",
   "version": "3.9.12"
  }
 },
 "nbformat": 4,
 "nbformat_minor": 5
}
