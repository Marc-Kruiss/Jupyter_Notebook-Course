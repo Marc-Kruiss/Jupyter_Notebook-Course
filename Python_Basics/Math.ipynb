{
 "cells": [
  {
   "cell_type": "markdown",
   "id": "af41eb4a",
   "metadata": {},
   "source": [
    "# 11. Math"
   ]
  },
  {
   "cell_type": "code",
   "execution_count": 1,
   "id": "fdec53cb",
   "metadata": {},
   "outputs": [],
   "source": [
    "# Create two variables\n",
    "math_value_1 = 1235456\n",
    "math_value_2 = 5678914"
   ]
  },
  {
   "cell_type": "code",
   "execution_count": 2,
   "id": "67e7c09b",
   "metadata": {},
   "outputs": [
    {
     "data": {
      "text/plain": [
       "6914370"
      ]
     },
     "execution_count": 2,
     "metadata": {},
     "output_type": "execute_result"
    }
   ],
   "source": [
    "# Addition\n",
    "math_value_1 + math_value_2"
   ]
  },
  {
   "cell_type": "code",
   "execution_count": 3,
   "id": "482ab733",
   "metadata": {},
   "outputs": [
    {
     "data": {
      "text/plain": [
       "-4443458"
      ]
     },
     "execution_count": 3,
     "metadata": {},
     "output_type": "execute_result"
    }
   ],
   "source": [
    "# Subtraction\n",
    "math_value_1 - math_value_2"
   ]
  },
  {
   "cell_type": "code",
   "execution_count": 4,
   "id": "d65a2ebb",
   "metadata": {},
   "outputs": [
    {
     "data": {
      "text/plain": [
       "4.596613719954414"
      ]
     },
     "execution_count": 4,
     "metadata": {},
     "output_type": "execute_result"
    }
   ],
   "source": [
    "# Division\n",
    "math_value_2 / math_value_1"
   ]
  },
  {
   "cell_type": "code",
   "execution_count": 5,
   "id": "a1691892",
   "metadata": {},
   "outputs": [
    {
     "data": {
      "text/plain": [
       "4"
      ]
     },
     "execution_count": 5,
     "metadata": {},
     "output_type": "execute_result"
    }
   ],
   "source": [
    "# Dividing with the Integral Result (Floor Division)\n",
    "math_value_2 // math_value_1"
   ]
  },
  {
   "cell_type": "code",
   "execution_count": 16,
   "id": "a73a63d6",
   "metadata": {},
   "outputs": [
    {
     "data": {
      "text/plain": [
       "2"
      ]
     },
     "execution_count": 16,
     "metadata": {},
     "output_type": "execute_result"
    }
   ],
   "source": [
    "# Modulus / Modulo\n",
    "5 % 3"
   ]
  },
  {
   "cell_type": "code",
   "execution_count": 7,
   "id": "9e415dd5",
   "metadata": {},
   "outputs": [
    {
     "data": {
      "text/plain": [
       "7016048374784"
      ]
     },
     "execution_count": 7,
     "metadata": {},
     "output_type": "execute_result"
    }
   ],
   "source": [
    "# Multiplication\n",
    "math_value_1 * math_value_2"
   ]
  },
  {
   "cell_type": "code",
   "execution_count": 9,
   "id": "fc1b0698",
   "metadata": {},
   "outputs": [
    {
     "data": {
      "text/plain": [
       "1526351527936"
      ]
     },
     "execution_count": 9,
     "metadata": {},
     "output_type": "execute_result"
    }
   ],
   "source": [
    "# Power\n",
    "math_value_1 ** 2"
   ]
  },
  {
   "cell_type": "code",
   "execution_count": 14,
   "id": "45dcda77",
   "metadata": {},
   "outputs": [
    {
     "data": {
      "text/plain": [
       "12345.68"
      ]
     },
     "execution_count": 14,
     "metadata": {},
     "output_type": "execute_result"
    }
   ],
   "source": [
    "# Round\n",
    "round(12345.6789, 2)"
   ]
  },
  {
   "cell_type": "code",
   "execution_count": 18,
   "id": "cb8f51d9",
   "metadata": {},
   "outputs": [
    {
     "data": {
      "text/plain": [
       "5"
      ]
     },
     "execution_count": 18,
     "metadata": {},
     "output_type": "execute_result"
    }
   ],
   "source": [
    "# Absolute Values\n",
    "abs(-5)"
   ]
  },
  {
   "cell_type": "code",
   "execution_count": 20,
   "id": "63019473",
   "metadata": {},
   "outputs": [
    {
     "data": {
      "text/plain": [
       "1"
      ]
     },
     "execution_count": 20,
     "metadata": {},
     "output_type": "execute_result"
    }
   ],
   "source": [
    "# Minimum - smallest value\n",
    "min(212,251,256,222,1,251,2222)"
   ]
  },
  {
   "cell_type": "code",
   "execution_count": 22,
   "id": "3f810586",
   "metadata": {},
   "outputs": [
    {
     "data": {
      "text/plain": [
       "2222"
      ]
     },
     "execution_count": 22,
     "metadata": {},
     "output_type": "execute_result"
    }
   ],
   "source": [
    "# Maximum - biggest value\n",
    "max(212,251,256,222,1,251,2222)"
   ]
  },
  {
   "cell_type": "code",
   "execution_count": 23,
   "id": "eed75efe",
   "metadata": {},
   "outputs": [],
   "source": [
    "# Import the math package\n",
    "import math"
   ]
  },
  {
   "cell_type": "code",
   "execution_count": 25,
   "id": "e3bdc74d",
   "metadata": {},
   "outputs": [
    {
     "data": {
      "text/plain": [
       "5.0"
      ]
     },
     "execution_count": 25,
     "metadata": {},
     "output_type": "execute_result"
    }
   ],
   "source": [
    "math.sqrt(25)"
   ]
  },
  {
   "cell_type": "code",
   "execution_count": 27,
   "id": "e3cab4cf",
   "metadata": {},
   "outputs": [],
   "source": [
    "math.sqrt??"
   ]
  }
 ],
 "metadata": {
  "kernelspec": {
   "display_name": "Python 3 (ipykernel)",
   "language": "python",
   "name": "python3"
  },
  "language_info": {
   "codemirror_mode": {
    "name": "ipython",
    "version": 3
   },
   "file_extension": ".py",
   "mimetype": "text/x-python",
   "name": "python",
   "nbconvert_exporter": "python",
   "pygments_lexer": "ipython3",
   "version": "3.9.12"
  }
 },
 "nbformat": 4,
 "nbformat_minor": 5
}
