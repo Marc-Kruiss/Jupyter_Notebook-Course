{
 "cells": [
  {
   "cell_type": "markdown",
   "id": "83c2df7d",
   "metadata": {},
   "source": [
    "# 6. Functions"
   ]
  },
  {
   "cell_type": "code",
   "execution_count": 7,
   "id": "dbd51f4c",
   "metadata": {},
   "outputs": [],
   "source": [
    "# Defining a function in Python\n",
    "def launchpad_welcome():\n",
    "    print(\"Hello\")\n",
    "    print(1+2)\n",
    "    print(3+4)"
   ]
  },
  {
   "cell_type": "code",
   "execution_count": 18,
   "id": "fbb68d49",
   "metadata": {},
   "outputs": [
    {
     "name": "stdout",
     "output_type": "stream",
     "text": [
      "Hello\n",
      "3\n",
      "7\n"
     ]
    }
   ],
   "source": [
    "launchpad_welcome()"
   ]
  },
  {
   "cell_type": "code",
   "execution_count": 19,
   "id": "95ccb342",
   "metadata": {},
   "outputs": [
    {
     "name": "stdout",
     "output_type": "stream",
     "text": [
      "Welcome Elon Musk\n"
     ]
    }
   ],
   "source": [
    "# String formatting\n",
    "print('Welcome {} {}'.format('Elon','Musk'))"
   ]
  },
  {
   "cell_type": "code",
   "execution_count": 15,
   "id": "314461f3",
   "metadata": {},
   "outputs": [],
   "source": [
    "names = ['neil armstrong', 'buzz aldrin', 'sally ride', 'yuri gagarin' 'elon musk']"
   ]
  },
  {
   "cell_type": "code",
   "execution_count": 16,
   "id": "eeccc5fd",
   "metadata": {},
   "outputs": [],
   "source": [
    "# Defining function\n",
    "def custom_welcome(name):\n",
    "    print('Welcome {}'.format(name))"
   ]
  },
  {
   "cell_type": "code",
   "execution_count": 13,
   "id": "a47e0442",
   "metadata": {},
   "outputs": [
    {
     "name": "stdout",
     "output_type": "stream",
     "text": [
      "Welcome Marc\n"
     ]
    }
   ],
   "source": [
    "# Running function\n",
    "custom_welcome('Marc')"
   ]
  },
  {
   "cell_type": "code",
   "execution_count": 20,
   "id": "bee53392",
   "metadata": {},
   "outputs": [
    {
     "name": "stdout",
     "output_type": "stream",
     "text": [
      "Welcome neil armstrong\n",
      "Welcome buzz aldrin\n",
      "Welcome sally ride\n",
      "Welcome yuri gagarinelon musk\n"
     ]
    }
   ],
   "source": [
    "for name in names:\n",
    "    custom_welcome(name)"
   ]
  },
  {
   "cell_type": "code",
   "execution_count": 23,
   "id": "8ab91e3c",
   "metadata": {},
   "outputs": [],
   "source": [
    "# Defining function\n",
    "def custom_welcome_to_ship(name, space_ship):\n",
    "    print('Welcome {} to the {}'.format(name, space_ship))"
   ]
  },
  {
   "cell_type": "code",
   "execution_count": null,
   "id": "3609484f",
   "metadata": {},
   "outputs": [],
   "source": []
  }
 ],
 "metadata": {
  "kernelspec": {
   "display_name": "Python 3 (ipykernel)",
   "language": "python",
   "name": "python3"
  },
  "language_info": {
   "codemirror_mode": {
    "name": "ipython",
    "version": 3
   },
   "file_extension": ".py",
   "mimetype": "text/x-python",
   "name": "python",
   "nbconvert_exporter": "python",
   "pygments_lexer": "ipython3",
   "version": "3.9.12"
  }
 },
 "nbformat": 4,
 "nbformat_minor": 5
}
