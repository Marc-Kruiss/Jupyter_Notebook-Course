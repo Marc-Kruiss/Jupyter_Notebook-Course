{
 "cells": [
  {
   "cell_type": "markdown",
   "id": "a9474aee",
   "metadata": {},
   "source": [
    "# 4. Conditions and Logic"
   ]
  },
  {
   "cell_type": "code",
   "execution_count": 1,
   "id": "7e39e7a1",
   "metadata": {},
   "outputs": [
    {
     "name": "stdout",
     "output_type": "stream",
     "text": [
      "Hello Neil\n"
     ]
    }
   ],
   "source": [
    "# Applying locig using the IF statement\n",
    "name = \"Neil Armstrong\"\n",
    "if name == \"Neil Armstrong\":\n",
    "    print(\"Hello Neil\")"
   ]
  },
  {
   "cell_type": "code",
   "execution_count": 6,
   "id": "9813f43e",
   "metadata": {},
   "outputs": [
    {
     "name": "stdout",
     "output_type": "stream",
     "text": [
      "Number is greater than qual to 5\n"
     ]
    }
   ],
   "source": [
    "test_number = 10\n",
    "if test_number >= 5:\n",
    "    print(\"Number is greater than qual to 5\")\n",
    "elif test_number < 0:\n",
    "    print(\"Number is negativ\")\n",
    "else:\n",
    "    print(\"Number is less than 5\")"
   ]
  },
  {
   "cell_type": "code",
   "execution_count": 12,
   "id": "7691bb4a",
   "metadata": {},
   "outputs": [
    {
     "name": "stdout",
     "output_type": "stream",
     "text": [
      "Elon's here\n"
     ]
    }
   ],
   "source": [
    "# Create a list of names\n",
    "names=[\"neil armstrong\", \"buzz aldrin\", \"sally ride\", \"yuri gagarin\", \"elon musk\"]\n",
    "if 'elon musk' in names:\n",
    "    print('Elon\\'s here')"
   ]
  },
  {
   "cell_type": "markdown",
   "id": "4b4fd5e7",
   "metadata": {},
   "source": [
    "# 5. Loops"
   ]
  },
  {
   "cell_type": "code",
   "execution_count": null,
   "id": "e13032eb",
   "metadata": {},
   "outputs": [],
   "source": []
  },
  {
   "cell_type": "code",
   "execution_count": null,
   "id": "f9728359",
   "metadata": {},
   "outputs": [],
   "source": []
  },
  {
   "cell_type": "code",
   "execution_count": null,
   "id": "eea6c4c5",
   "metadata": {},
   "outputs": [],
   "source": []
  },
  {
   "cell_type": "code",
   "execution_count": null,
   "id": "17eb44fe",
   "metadata": {},
   "outputs": [],
   "source": []
  }
 ],
 "metadata": {
  "kernelspec": {
   "display_name": "Python 3 (ipykernel)",
   "language": "python",
   "name": "python3"
  },
  "language_info": {
   "codemirror_mode": {
    "name": "ipython",
    "version": 3
   },
   "file_extension": ".py",
   "mimetype": "text/x-python",
   "name": "python",
   "nbconvert_exporter": "python",
   "pygments_lexer": "ipython3",
   "version": "3.9.12"
  }
 },
 "nbformat": 4,
 "nbformat_minor": 5
}
