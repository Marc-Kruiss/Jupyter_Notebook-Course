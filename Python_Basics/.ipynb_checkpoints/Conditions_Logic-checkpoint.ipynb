{
 "cells": [
  {
   "cell_type": "markdown",
   "id": "a9474aee",
   "metadata": {},
   "source": [
    "# 4. Conditions and Logic"
   ]
  },
  {
   "cell_type": "code",
   "execution_count": 2,
   "id": "7e39e7a1",
   "metadata": {},
   "outputs": [
    {
     "name": "stdout",
     "output_type": "stream",
     "text": [
      "Hello Neil\n"
     ]
    }
   ],
   "source": [
    "# Applying locig using the IF statement\n",
    "name = \"Neil Armstrong\"\n",
    "if name == \"Neil Armstrong\":\n",
    "    print(\"Hello Neil\")"
   ]
  },
  {
   "cell_type": "code",
   "execution_count": 3,
   "id": "9813f43e",
   "metadata": {},
   "outputs": [
    {
     "name": "stdout",
     "output_type": "stream",
     "text": [
      "Number is greater than qual to 5\n"
     ]
    }
   ],
   "source": [
    "test_number = 10\n",
    "if test_number >= 5:\n",
    "    print(\"Number is greater than qual to 5\")\n",
    "elif test_number < 0:\n",
    "    print(\"Number is negativ\")\n",
    "else:\n",
    "    print(\"Number is less than 5\")"
   ]
  },
  {
   "cell_type": "code",
   "execution_count": 15,
   "id": "7691bb4a",
   "metadata": {},
   "outputs": [
    {
     "name": "stdout",
     "output_type": "stream",
     "text": [
      "Elon's here\n",
      "End\n"
     ]
    }
   ],
   "source": [
    "# Create a list of names\n",
    "names=[\"neil armstrong\", \"buzz aldrin\", \"sally ride\", \"yuri gagarin\", \"elon musk\"]\n",
    "if 'elon musk' in names:\n",
    "    print('Elon\\'s here')"
   ]
  },
  {
   "cell_type": "markdown",
   "id": "4b4fd5e7",
   "metadata": {},
   "source": [
    "# 5. Loops"
   ]
  },
  {
   "cell_type": "code",
   "execution_count": 19,
   "id": "e13032eb",
   "metadata": {},
   "outputs": [
    {
     "name": "stdout",
     "output_type": "stream",
     "text": [
      "neil armstrong\n",
      "Pleased to have you here!\n",
      "\n",
      "buzz aldrin\n",
      "Sup buzz \n",
      "\n",
      "sally ride\n",
      "Pleased to have you here!\n",
      "\n",
      "yuri gagarin\n",
      "Hey yuri\n"
     ]
    }
   ],
   "source": [
    "# for loop\n",
    "for name in names:\n",
    "    print(name)\n",
    "    \n",
    "    # contition block\n",
    "    if name == 'buzz aldrin':\n",
    "        print(\"Sup buzz \\n\")\n",
    "        continue # next value in the loop\n",
    "        \n",
    "    elif(name == \"yuri gagarin\"):\n",
    "        print(\"Hey yuri\")\n",
    "        break # stop loop\n",
    "    else:\n",
    "        pass # Placeholder to do nothing\n",
    "    \n",
    "    # outside of if statement block\n",
    "    print(\"Pleased to have you here!\\n\")"
   ]
  },
  {
   "cell_type": "code",
   "execution_count": 24,
   "id": "f9728359",
   "metadata": {},
   "outputs": [
    {
     "name": "stdout",
     "output_type": "stream",
     "text": [
      "1\n",
      "3\n",
      "5\n",
      "7\n",
      "9\n"
     ]
    }
   ],
   "source": [
    "# Loop x number of times\n",
    "for idx in range(1,10,2):\n",
    "    print(idx)"
   ]
  },
  {
   "cell_type": "code",
   "execution_count": 27,
   "id": "eea6c4c5",
   "metadata": {},
   "outputs": [
    {
     "name": "stdout",
     "output_type": "stream",
     "text": [
      "Shuttle 1 launched\n",
      "Shuttle 2 launched\n",
      "Shuttle 3 launched\n",
      "Shuttle 4 launched\n",
      "Shuttle 5 launched\n",
      "All shuttles launched\n"
     ]
    }
   ],
   "source": [
    "# Create launch variables\n",
    "launched_shuttles = 0\n",
    "total_shuttles = 5\n",
    "\n",
    "# Create a while loop\n",
    "while True:\n",
    "    # String formatting\n",
    "    print('Shuttle {} launched'.format(launched_shuttles+1))\n",
    "    launched_shuttles+=1\n",
    "    \n",
    "    if launched_shuttles == total_shuttles:\n",
    "        print('All shuttles launched')\n",
    "        break"
   ]
  },
  {
   "cell_type": "code",
   "execution_count": null,
   "id": "17eb44fe",
   "metadata": {},
   "outputs": [],
   "source": []
  }
 ],
 "metadata": {
  "kernelspec": {
   "display_name": "Python 3 (ipykernel)",
   "language": "python",
   "name": "python3"
  },
  "language_info": {
   "codemirror_mode": {
    "name": "ipython",
    "version": 3
   },
   "file_extension": ".py",
   "mimetype": "text/x-python",
   "name": "python",
   "nbconvert_exporter": "python",
   "pygments_lexer": "ipython3",
   "version": "3.9.12"
  }
 },
 "nbformat": 4,
 "nbformat_minor": 5
}
