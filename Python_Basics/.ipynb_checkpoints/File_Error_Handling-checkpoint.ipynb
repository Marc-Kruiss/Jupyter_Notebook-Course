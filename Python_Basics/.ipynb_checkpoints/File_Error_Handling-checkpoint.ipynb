{
 "cells": [
  {
   "cell_type": "markdown",
   "id": "32e22f52",
   "metadata": {},
   "source": [
    "# 9. Working with Files"
   ]
  },
  {
   "cell_type": "code",
   "execution_count": 9,
   "id": "c03e275a",
   "metadata": {},
   "outputs": [],
   "source": [
    "# Write out our mission journal\n",
    "with open('mission_journal.txt', 'w') as f:\n",
    "    f.write(\"It's my first time on the space mission, it's very nice!\")"
   ]
  },
  {
   "cell_type": "code",
   "execution_count": 13,
   "id": "78bb5c44",
   "metadata": {},
   "outputs": [],
   "source": [
    "# Read from journal\n",
    "with open('mission_journal.txt', 'r') as f:\n",
    "    content = f.read()"
   ]
  },
  {
   "cell_type": "code",
   "execution_count": 17,
   "id": "cf1ab14c",
   "metadata": {},
   "outputs": [
    {
     "name": "stdout",
     "output_type": "stream",
     "text": [
      "It's my first time on the space mission, it's very nice!\n"
     ]
    }
   ],
   "source": [
    "print(content)"
   ]
  },
  {
   "cell_type": "markdown",
   "id": "3d1aa45f",
   "metadata": {},
   "source": [
    "# 10. Error Handling"
   ]
  },
  {
   "cell_type": "code",
   "execution_count": 19,
   "id": "74f302fd",
   "metadata": {},
   "outputs": [],
   "source": [
    "# Create a set\n",
    "new_set = {1,2,3,4,5,6}"
   ]
  },
  {
   "cell_type": "code",
   "execution_count": 23,
   "id": "3599e119",
   "metadata": {},
   "outputs": [
    {
     "name": "stdout",
     "output_type": "stream",
     "text": [
      "Something went wrong with your request\n"
     ]
    }
   ],
   "source": [
    "# Catch exception\n",
    "try:\n",
    "    # Code which may cause an error\n",
    "    new_set[0] = 4 # set is immutable!!\n",
    "    \n",
    "# When an error occurs, the code below will run    \n",
    "except Exception as e:\n",
    "    # Error handling \n",
    "    print('Something went wrong with your request')"
   ]
  }
 ],
 "metadata": {
  "kernelspec": {
   "display_name": "Python 3 (ipykernel)",
   "language": "python",
   "name": "python3"
  },
  "language_info": {
   "codemirror_mode": {
    "name": "ipython",
    "version": 3
   },
   "file_extension": ".py",
   "mimetype": "text/x-python",
   "name": "python",
   "nbconvert_exporter": "python",
   "pygments_lexer": "ipython3",
   "version": "3.9.12"
  }
 },
 "nbformat": 4,
 "nbformat_minor": 5
}
