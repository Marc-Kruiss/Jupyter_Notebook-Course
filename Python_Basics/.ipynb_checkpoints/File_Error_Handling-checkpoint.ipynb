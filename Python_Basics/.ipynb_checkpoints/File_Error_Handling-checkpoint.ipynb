{
 "cells": [
  {
   "cell_type": "markdown",
   "id": "a688db63",
   "metadata": {},
   "source": [
    "# 9. Working with Files"
   ]
  },
  {
   "cell_type": "code",
   "execution_count": 9,
   "id": "26a89eec",
   "metadata": {},
   "outputs": [],
   "source": [
    "# Write out our mission journal\n",
    "with open('mission_journal.txt', 'w') as f:\n",
    "    f.write(\"It's my first time on the space mission, it's very nice!\")"
   ]
  },
  {
   "cell_type": "code",
   "execution_count": 13,
   "id": "bf42bb47",
   "metadata": {},
   "outputs": [],
   "source": [
    "# Read from journal\n",
    "with open('mission_journal.txt', 'r') as f:\n",
    "    content = f.read()"
   ]
  },
  {
   "cell_type": "code",
   "execution_count": 17,
   "id": "5308233c",
   "metadata": {},
   "outputs": [
    {
     "name": "stdout",
     "output_type": "stream",
     "text": [
      "It's my first time on the space mission, it's very nice!\n"
     ]
    }
   ],
   "source": [
    "print(content)"
   ]
  },
  {
   "cell_type": "code",
   "execution_count": null,
   "id": "7ede294e",
   "metadata": {},
   "outputs": [],
   "source": []
  },
  {
   "cell_type": "code",
   "execution_count": null,
   "id": "eaaa93a5",
   "metadata": {},
   "outputs": [],
   "source": []
  },
  {
   "cell_type": "code",
   "execution_count": null,
   "id": "d64147b4",
   "metadata": {},
   "outputs": [],
   "source": []
  },
  {
   "cell_type": "code",
   "execution_count": null,
   "id": "0c5e04a9",
   "metadata": {},
   "outputs": [],
   "source": []
  },
  {
   "cell_type": "code",
   "execution_count": null,
   "id": "91042d54",
   "metadata": {},
   "outputs": [],
   "source": []
  }
 ],
 "metadata": {
  "kernelspec": {
   "display_name": "Python 3 (ipykernel)",
   "language": "python",
   "name": "python3"
  },
  "language_info": {
   "codemirror_mode": {
    "name": "ipython",
    "version": 3
   },
   "file_extension": ".py",
   "mimetype": "text/x-python",
   "name": "python",
   "nbconvert_exporter": "python",
   "pygments_lexer": "ipython3",
   "version": "3.9.12"
  }
 },
 "nbformat": 4,
 "nbformat_minor": 5
}
