{
 "cells": [
  {
   "cell_type": "markdown",
   "id": "52223cee",
   "metadata": {},
   "source": [
    "# Title\n",
    "## This is a smaller heading\n",
    "This is my first jupyter notebook"
   ]
  },
  {
   "cell_type": "code",
   "execution_count": null,
   "id": "2e3c9244",
   "metadata": {},
   "outputs": [],
   "source": [
    "print(\"Test printing function\")"
   ]
  },
  {
   "cell_type": "code",
   "execution_count": 8,
   "id": "38286e2c",
   "metadata": {},
   "outputs": [
    {
     "name": "stdout",
     "output_type": "stream",
     "text": [
      "Hello Marc\n"
     ]
    }
   ],
   "source": [
    "print(\"Hello Marc\")"
   ]
  },
  {
   "cell_type": "code",
   "execution_count": 13,
   "id": "32fde5e2",
   "metadata": {},
   "outputs": [
    {
     "name": "stdout",
     "output_type": "stream",
     "text": [
      "12345\n"
     ]
    }
   ],
   "source": [
    "print??\n",
    "print(12345)"
   ]
  }
 ],
 "metadata": {
  "kernelspec": {
   "display_name": "Python 3 (ipykernel)",
   "language": "python",
   "name": "python3"
  },
  "language_info": {
   "codemirror_mode": {
    "name": "ipython",
    "version": 3
   },
   "file_extension": ".py",
   "mimetype": "text/x-python",
   "name": "python",
   "nbconvert_exporter": "python",
   "pygments_lexer": "ipython3",
   "version": "3.9.12"
  }
 },
 "nbformat": 4,
 "nbformat_minor": 5
}
